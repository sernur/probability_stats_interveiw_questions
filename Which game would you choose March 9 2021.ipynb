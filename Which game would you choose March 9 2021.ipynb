{
 "cells": [
  {
   "cell_type": "markdown",
   "metadata": {
    "ExecuteTime": {
     "end_time": "2021-03-03T15:06:18.500645Z",
     "start_time": "2021-03-03T15:06:18.455823Z"
    }
   },
   "source": [
    "sergazy.nurbavliyev@gmail.com © 2021"
   ]
  },
  {
   "cell_type": "markdown",
   "metadata": {},
   "source": [
    "## Which game would you choose "
   ]
  },
  {
   "cell_type": "markdown",
   "metadata": {},
   "source": [
    "Question: Assume you and your friend decided to play the game in a casino. There are two games that you can play. \n",
    "Game 1. You roll two uniform fair dice. You can get the amount of dollars that is equivalent to the product of the numbers shown on both dies. \n",
    "Game 2. You roll one uniform fair die. You will get the dollar amount of the square of the value shown on the die. Which game will you choose? To be more clear: Which game has the higher expected value?"
   ]
  },
  {
   "cell_type": "markdown",
   "metadata": {},
   "source": [
    "## Answer"
   ]
  },
  {
   "cell_type": "markdown",
   "metadata": {},
   "source": [
    "Without calculating the real expected values. (This part is left to the reader.) We can stil answer the question.\n",
    " \n",
    "Let $X$ be the random variable that shows the outcome of the uniform fair die. Then the game 1 is asking to find $\\mathbb{E}[X]*\\mathbb{E}[X]$. In other words, the product of the expectation of the two independent rolls. However the game 2 is asking to find $\\mathbb{E}[X^2]$. In other words the expectation of the square of the single roll.  Remember the definition of the variance. We know it is always non-negative. That is \n",
    "$Var(X)\\geq 0$.\n",
    "\\begin{equation}\n",
    "Var(X)=\\mathbb{E}[X^2]-\\mathbb{E}[X]^2\\geq 0\n",
    "\\end{equation}\n",
    "This implies that $\\mathbb{E}[X^2]\\geq \\mathbb{E}[X]^2$. Indeed, $\\mathbb{E}[X^2]> \\mathbb{E}[X]^2$ unless the two games are exactly the same. This implies that the second game has a higher expected value and we should choose that one."
   ]
  },
  {
   "cell_type": "code",
   "execution_count": null,
   "metadata": {},
   "outputs": [],
   "source": []
  },
  {
   "cell_type": "code",
   "execution_count": null,
   "metadata": {},
   "outputs": [],
   "source": []
  },
  {
   "cell_type": "markdown",
   "metadata": {},
   "source": [
    "## Python code for exact value"
   ]
  },
  {
   "cell_type": "code",
   "execution_count": 1,
   "metadata": {
    "ExecuteTime": {
     "end_time": "2021-03-10T05:35:05.365184Z",
     "start_time": "2021-03-10T05:35:04.552824Z"
    }
   },
   "outputs": [],
   "source": [
    "import sympy as S\n",
    "from sympy.stats import E, Die,variance\n",
    "x=Die('D1',6)\n",
    "y=Die('D2',6)"
   ]
  },
  {
   "cell_type": "code",
   "execution_count": 2,
   "metadata": {
    "ExecuteTime": {
     "end_time": "2021-03-10T05:35:05.476554Z",
     "start_time": "2021-03-10T05:35:05.371494Z"
    }
   },
   "outputs": [
    {
     "data": {
      "text/plain": [
       "(7/2, 91/6, 35/12)"
      ]
     },
     "execution_count": 2,
     "metadata": {},
     "output_type": "execute_result"
    }
   ],
   "source": [
    "E(x),E(x**2),variance(x)"
   ]
  },
  {
   "cell_type": "code",
   "execution_count": 3,
   "metadata": {
    "ExecuteTime": {
     "end_time": "2021-03-10T05:35:05.516596Z",
     "start_time": "2021-03-10T05:35:05.488862Z"
    }
   },
   "outputs": [
    {
     "data": {
      "text/plain": [
       "(7/2, 91/6, 35/12)"
      ]
     },
     "execution_count": 3,
     "metadata": {},
     "output_type": "execute_result"
    }
   ],
   "source": [
    "E(y),E(y**2),variance(y)"
   ]
  },
  {
   "cell_type": "code",
   "execution_count": 4,
   "metadata": {
    "ExecuteTime": {
     "end_time": "2021-03-10T05:35:05.536319Z",
     "start_time": "2021-03-10T05:35:05.524363Z"
    }
   },
   "outputs": [],
   "source": [
    "z =x*y"
   ]
  },
  {
   "cell_type": "code",
   "execution_count": 5,
   "metadata": {
    "ExecuteTime": {
     "end_time": "2021-03-10T05:35:05.714708Z",
     "start_time": "2021-03-10T05:35:05.545588Z"
    }
   },
   "outputs": [
    {
     "data": {
      "text/plain": [
       "(49/4, 8281/36, 11515/144)"
      ]
     },
     "execution_count": 5,
     "metadata": {},
     "output_type": "execute_result"
    }
   ],
   "source": [
    "E(z),E(z**2),variance(z)"
   ]
  },
  {
   "cell_type": "code",
   "execution_count": 6,
   "metadata": {
    "ExecuteTime": {
     "end_time": "2021-03-10T05:35:05.773407Z",
     "start_time": "2021-03-10T05:35:05.723303Z"
    }
   },
   "outputs": [
    {
     "data": {
      "text/latex": [
       "$\\displaystyle \\text{True}$"
      ],
      "text/plain": [
       "True"
      ]
     },
     "execution_count": 6,
     "metadata": {},
     "output_type": "execute_result"
    }
   ],
   "source": [
    "E(z)**2<E(z**2)"
   ]
  },
  {
   "cell_type": "code",
   "execution_count": null,
   "metadata": {},
   "outputs": [],
   "source": []
  },
  {
   "cell_type": "code",
   "execution_count": null,
   "metadata": {},
   "outputs": [],
   "source": []
  }
 ],
 "metadata": {
  "author": "g",
  "hide_input": false,
  "kernelspec": {
   "display_name": "Python 3",
   "language": "python",
   "name": "python3"
  },
  "language_info": {
   "codemirror_mode": {
    "name": "ipython",
    "version": 3
   },
   "file_extension": ".py",
   "mimetype": "text/x-python",
   "name": "python",
   "nbconvert_exporter": "python",
   "pygments_lexer": "ipython3",
   "version": "3.7.5"
  },
  "latex_envs": {
   "LaTeX_envs_menu_present": true,
   "autoclose": false,
   "autocomplete": true,
   "bibliofile": "biblio.bib",
   "cite_by": "apalike",
   "current_citInitial": 1,
   "eqLabelWithNumbers": true,
   "eqNumInitial": 1,
   "hotkeys": {
    "equation": "Ctrl-E",
    "itemize": "Ctrl-I"
   },
   "labels_anchors": false,
   "latex_user_defs": false,
   "report_style_numbering": false,
   "user_envs_cfg": false
  }
 },
 "nbformat": 4,
 "nbformat_minor": 4
}

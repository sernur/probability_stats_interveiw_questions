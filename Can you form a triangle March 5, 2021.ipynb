{
 "cells": [
  {
   "cell_type": "markdown",
   "metadata": {
    "ExecuteTime": {
     "end_time": "2021-03-03T15:06:18.500645Z",
     "start_time": "2021-03-03T15:06:18.455823Z"
    }
   },
   "source": [
    "sergazy.nurbavliyev@gmail.com © 2021"
   ]
  },
  {
   "cell_type": "markdown",
   "metadata": {},
   "source": [
    "## Can you form a triangle ?"
   ]
  },
  {
   "cell_type": "markdown",
   "metadata": {},
   "source": [
    "Question: Assume we have a stick of length 1. Suppose you randomly break it into three parts. What is the probability that you can form a triangle using these three parts?"
   ]
  },
  {
   "cell_type": "markdown",
   "metadata": {},
   "source": [
    "### Intuition"
   ]
  },
  {
   "cell_type": "markdown",
   "metadata": {},
   "source": [
    "I always like to break into the cases. The idea is divide and conquer :)\n",
    "Let us figure out what these cases are. First, assume we label these three pieces as $a,b$ and $c.$ Remember $a+b+c=1$. We know that if any of these pieces is bigger than $\\frac{1}{2}$ than it is impossible to form a triangle. There are 3 such cases. Now the last case is if all of them are strictly smaller than  $\\frac{1}{2}.$ In that case it is possible to form a triangle. You can now intuitively think that all of these outcomes have an equal probability. Thus the answer is 1/4. To make things clear I show these argument in a table."
   ]
  },
  {
   "cell_type": "markdown",
   "metadata": {},
   "source": [
    "| Cases:       | a              |b                |      c          | Triangle ?    | \n",
    "|--------------| -------------- |-----------------| ----------------|---------------|\n",
    "|Posssibility 1| a>1/2 |b<1/2| c<1/2|No |\n",
    "|Posssibility 2|       a<1/2 |b>1/2| c<1/2|No |\n",
    "|Posssibility 3|        a<1/2 |b<1/2| c>1/2|No |\n",
    "|Posssibility 4|         a<1/2 |b<1/2| c<1/2|Yes |"
   ]
  },
  {
   "cell_type": "code",
   "execution_count": null,
   "metadata": {},
   "outputs": [],
   "source": []
  },
  {
   "cell_type": "markdown",
   "metadata": {},
   "source": [
    "## Theoritical result"
   ]
  },
  {
   "cell_type": "markdown",
   "metadata": {},
   "source": [
    "I would like to label the breaking points as $x$ and $y$. So there are two possibilities:\n",
    "Case 1: $x < y$ and Case 2: $y < x$\n",
    "\n",
    "Case 1:$x < y$: Length of pieces after choosing points x and y: would be\n",
    "$x , (y-x) , (1-y)$ \n",
    "\n",
    "We showed the partition below.\n",
    "\n",
    "0----- $x$-------$y$------1\n",
    "\n",
    "There are 3 possible combination for satisfying triangle inequality.\n",
    "\n",
    "\\begin{equation}\n",
    "x + (y-x)  > (1-y)\\Rightarrow 2y > 1\\Rightarrow  y > (1/2)\n",
    "\\end{equation}\n",
    "\n",
    "\\begin{equation}\n",
    " x + (1-1)  > (y-x)\\Rightarrow  2x + 1 > 2y\\Rightarrow  y < x + (1/2)\n",
    "\\end{equation}\n",
    "\n",
    "\\begin{equation}\n",
    "(y-x) + (1-1)  > x\\Rightarrow  2x < 1 \\Rightarrow  x < 1/2\n",
    "\\end{equation}\n",
    "\n",
    "\n"
   ]
  },
  {
   "cell_type": "markdown",
   "metadata": {
    "ExecuteTime": {
     "end_time": "2021-03-05T21:39:40.713983Z",
     "start_time": "2021-03-05T21:39:40.695756Z"
    }
   },
   "source": [
    "<img src=\"triangle.jpeg\">"
   ]
  },
  {
   "cell_type": "markdown",
   "metadata": {},
   "source": [
    "Case 2:$y < x$: Length of pieces after choosing points x and y: would be\n",
    "$y , (x-y) , (1-x)$. With the same logic, we would get  $\\frac{1}{8}$\n",
    "\n",
    "Now we can add the results to get the probability of forming triangle. That would be  $\\frac{1}{8}+ \\frac{1}{8}=\\frac{1}{4}.$"
   ]
  },
  {
   "cell_type": "markdown",
   "metadata": {},
   "source": [
    "## Python code for simulation"
   ]
  },
  {
   "cell_type": "code",
   "execution_count": 22,
   "metadata": {
    "ExecuteTime": {
     "end_time": "2021-03-05T21:51:06.965000Z",
     "start_time": "2021-03-05T21:51:06.955297Z"
    }
   },
   "outputs": [],
   "source": [
    "import random\n",
    "def forms_triangle(a, b, c):\n",
    "    return a + b > c and a + c > b and b + c > a"
   ]
  },
  {
   "cell_type": "code",
   "execution_count": 23,
   "metadata": {
    "ExecuteTime": {
     "end_time": "2021-03-05T21:51:07.458317Z",
     "start_time": "2021-03-05T21:51:07.451482Z"
    }
   },
   "outputs": [],
   "source": [
    "def counts(trials):\n",
    "    num_tri = 0\n",
    "    for i in range(trials):\n",
    "        x, y = random.uniform(0, 1.0), random.uniform(0, 1.0)\n",
    "        if x > y:\n",
    "            x, y = y, x\n",
    "            if forms_triangle(x, y - x, 1 - y):\n",
    "                num_tri += 1\n",
    "        else:\n",
    "            x, y = x, y\n",
    "            if forms_triangle(x, y - x, 1 - y):\n",
    "                num_tri += 1\n",
    "            \n",
    "    return num_tri"
   ]
  },
  {
   "cell_type": "code",
   "execution_count": 26,
   "metadata": {
    "ExecuteTime": {
     "end_time": "2021-03-05T21:51:22.206114Z",
     "start_time": "2021-03-05T21:51:21.167602Z"
    }
   },
   "outputs": [],
   "source": [
    "trials = 1000000\n",
    "formed_triangles = counts(trials)"
   ]
  },
  {
   "cell_type": "code",
   "execution_count": 27,
   "metadata": {
    "ExecuteTime": {
     "end_time": "2021-03-05T21:51:22.226048Z",
     "start_time": "2021-03-05T21:51:22.211841Z"
    }
   },
   "outputs": [
    {
     "data": {
      "text/plain": [
       "0.25034"
      ]
     },
     "execution_count": 27,
     "metadata": {},
     "output_type": "execute_result"
    }
   ],
   "source": [
    "formed_triangles/trials"
   ]
  },
  {
   "cell_type": "code",
   "execution_count": null,
   "metadata": {},
   "outputs": [],
   "source": []
  }
 ],
 "metadata": {
  "author": "g",
  "hide_input": false,
  "kernelspec": {
   "display_name": "Python 3",
   "language": "python",
   "name": "python3"
  },
  "language_info": {
   "codemirror_mode": {
    "name": "ipython",
    "version": 3
   },
   "file_extension": ".py",
   "mimetype": "text/x-python",
   "name": "python",
   "nbconvert_exporter": "python",
   "pygments_lexer": "ipython3",
   "version": "3.7.5"
  },
  "latex_envs": {
   "LaTeX_envs_menu_present": true,
   "autoclose": false,
   "autocomplete": true,
   "bibliofile": "biblio.bib",
   "cite_by": "apalike",
   "current_citInitial": 1,
   "eqLabelWithNumbers": true,
   "eqNumInitial": 1,
   "hotkeys": {
    "equation": "Ctrl-E",
    "itemize": "Ctrl-I"
   },
   "labels_anchors": false,
   "latex_user_defs": false,
   "report_style_numbering": false,
   "user_envs_cfg": false
  }
 },
 "nbformat": 4,
 "nbformat_minor": 4
}

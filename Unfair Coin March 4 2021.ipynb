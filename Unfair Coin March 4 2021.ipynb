{
 "cells": [
  {
   "cell_type": "markdown",
   "metadata": {
    "ExecuteTime": {
     "end_time": "2021-03-03T15:06:18.500645Z",
     "start_time": "2021-03-03T15:06:18.455823Z"
    }
   },
   "source": [
    "sergazy.nurbavliyev@gmail.com © 2021"
   ]
  },
  {
   "cell_type": "markdown",
   "metadata": {},
   "source": [
    "## Detecting Unfair Coin"
   ]
  },
  {
   "cell_type": "markdown",
   "metadata": {},
   "source": [
    "Question: Assume we have a fair coin (one side heads and the other side tails) also we have an unfair coin (both sides heads). You pick randomly one coin, and flip it 5 times. You get 5 heads in a row. What is the probability that you are indeed flipping the unfair coin?\n"
   ]
  },
  {
   "cell_type": "markdown",
   "metadata": {},
   "source": [
    "### Intuition"
   ]
  },
  {
   "cell_type": "markdown",
   "metadata": {},
   "source": [
    "Assume you flip a fair coin 5 times, what is the probability of getting 5 heads in a row. That is $\\frac{1}{2^5}$. \n",
    "If this is confusing, think this way, take 5 fair coin and flip once, and now the same question what is the probability of getting 5 heads? The same answer that is $\\frac{1}{2^5}$. Which is around 0.03125. If you dont have a calculator, then rougly you can guess $3/96\\approx 3/100=0.03$. That tells us probability of flipping an unfair coin is around 0.97. \n",
    "\n",
    "If you are flipping an unfair coin well then probability of getting 5 head is 1. Now correct answer should be close to these numbers."
   ]
  },
  {
   "cell_type": "code",
   "execution_count": 1,
   "metadata": {
    "ExecuteTime": {
     "end_time": "2021-03-04T16:06:19.118849Z",
     "start_time": "2021-03-04T16:06:19.007415Z"
    }
   },
   "outputs": [
    {
     "data": {
      "text/plain": [
       "0.03125"
      ]
     },
     "execution_count": 1,
     "metadata": {},
     "output_type": "execute_result"
    }
   ],
   "source": [
    "1/32"
   ]
  },
  {
   "cell_type": "code",
   "execution_count": null,
   "metadata": {},
   "outputs": [],
   "source": []
  },
  {
   "cell_type": "markdown",
   "metadata": {},
   "source": [
    "### Theoritical result"
   ]
  },
  {
   "cell_type": "markdown",
   "metadata": {},
   "source": [
    "As you can guess we will use Bayes theorem here. \n",
    "We will denote with $U$ letter if we are flipping the unfair coin and $F$ letter if we are flipping a fair\n",
    "Since we are picking randomly one coin, $\\mathbb{P}(U)=\\mathbb{P}(F)=1/2$.\n",
    "\n",
    "Let 5H represent the case where we get 5 heads in a row.  Then  we want to find the probability that we are flipping the unfair coin, given that we saw 5 heads in a row.\n",
    "i.e. $\\mathbb{P}(U|5H)$. \n",
    "If we are given an unfair coin and then the probability of getting 5 heads in a row would be 1. i.e. $\\mathbb{P}(5H|U)=1$. With the same logic if we have fair coin and then the probability of getting 5 heads in a row would be 1/32. i.e. $\\mathbb{P}(5H|F)=\\frac{1}{2^5}.$ We actually collected all the information we want. Now using Bayes rule we get\n",
    "\\begin{equation}\n",
    "\\mathbb{P}(U|5H)=\\dfrac{\\mathbb{P}(5H|U)\\mathbb{P}(U)}{\\mathbb{P}(5H|U)\\mathbb{P}(U)+\\mathbb{P}(5H|F)\\mathbb{P}(F)}=\\frac{\\frac{1}{2}*1}{\\frac{1}{2}*1+\\frac{1}{2}*\\frac{1}{2^5}}=\\frac{32}{33}= 0.9696969696969697\n",
    "\\end{equation}"
   ]
  },
  {
   "cell_type": "code",
   "execution_count": 2,
   "metadata": {
    "ExecuteTime": {
     "end_time": "2021-03-04T16:06:19.141301Z",
     "start_time": "2021-03-04T16:06:19.130704Z"
    }
   },
   "outputs": [
    {
     "data": {
      "text/plain": [
       "0.9696969696969697"
      ]
     },
     "execution_count": 2,
     "metadata": {},
     "output_type": "execute_result"
    }
   ],
   "source": [
    "32/33"
   ]
  },
  {
   "cell_type": "markdown",
   "metadata": {},
   "source": [
    "## Python code for our intuition"
   ]
  },
  {
   "cell_type": "code",
   "execution_count": 3,
   "metadata": {
    "ExecuteTime": {
     "end_time": "2021-03-04T16:06:19.165738Z",
     "start_time": "2021-03-04T16:06:19.154640Z"
    }
   },
   "outputs": [],
   "source": [
    "import scipy.stats as stats\n",
    "def fair(n_trials):\n",
    "    return stats.bernoulli.rvs(0.5, size=n_trials) # this returns an array of 0s and 1s\n",
    "def unfair(n_trials):\n",
    "    return stats.bernoulli.rvs(1, size=n_trials) ## this returns an array of 1s"
   ]
  },
  {
   "cell_type": "code",
   "execution_count": 17,
   "metadata": {
    "ExecuteTime": {
     "end_time": "2021-03-04T16:22:01.826906Z",
     "start_time": "2021-03-04T16:22:01.791422Z"
    }
   },
   "outputs": [],
   "source": [
    "import numpy as np\n",
    "count_f=0\n",
    "count_unf=0\n",
    "for j in range(100):\n",
    "    data = fair(5)\n",
    "    if np.sum(data)==5:\n",
    "        count_f+=1\n",
    "for j in range(100):\n",
    "    data = unfair(5)\n",
    "    if np.sum(data)==5:\n",
    "        count_unf+=1\n",
    "    "
   ]
  },
  {
   "cell_type": "code",
   "execution_count": 18,
   "metadata": {
    "ExecuteTime": {
     "end_time": "2021-03-04T16:22:02.084969Z",
     "start_time": "2021-03-04T16:22:02.065757Z"
    }
   },
   "outputs": [
    {
     "data": {
      "text/plain": [
       "(0.06, 0.01)"
      ]
     },
     "execution_count": 18,
     "metadata": {},
     "output_type": "execute_result"
    }
   ],
   "source": [
    "count_f/100,count_unf/10000"
   ]
  },
  {
   "cell_type": "code",
   "execution_count": null,
   "metadata": {},
   "outputs": [],
   "source": []
  }
 ],
 "metadata": {
  "author": "g",
  "hide_input": false,
  "kernelspec": {
   "display_name": "Python 3",
   "language": "python",
   "name": "python3"
  },
  "language_info": {
   "codemirror_mode": {
    "name": "ipython",
    "version": 3
   },
   "file_extension": ".py",
   "mimetype": "text/x-python",
   "name": "python",
   "nbconvert_exporter": "python",
   "pygments_lexer": "ipython3",
   "version": "3.7.5"
  },
  "latex_envs": {
   "LaTeX_envs_menu_present": true,
   "autoclose": false,
   "autocomplete": true,
   "bibliofile": "biblio.bib",
   "cite_by": "apalike",
   "current_citInitial": 1,
   "eqLabelWithNumbers": true,
   "eqNumInitial": 1,
   "hotkeys": {
    "equation": "Ctrl-E",
    "itemize": "Ctrl-I"
   },
   "labels_anchors": false,
   "latex_user_defs": false,
   "report_style_numbering": false,
   "user_envs_cfg": false
  }
 },
 "nbformat": 4,
 "nbformat_minor": 4
}

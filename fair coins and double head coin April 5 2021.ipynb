{
 "cells": [
  {
   "cell_type": "markdown",
   "metadata": {
    "ExecuteTime": {
     "end_time": "2021-03-03T15:06:18.500645Z",
     "start_time": "2021-03-03T15:06:18.455823Z"
    }
   },
   "source": [
    "sergazy.nurbavliyev@gmail.com © 2021"
   ]
  },
  {
   "cell_type": "markdown",
   "metadata": {},
   "source": [
    "## fair coins and double head coin"
   ]
  },
  {
   "cell_type": "markdown",
   "metadata": {},
   "source": [
    "Question: A jar has 1000 coins, of which 999 are fair and 1 is double headed. Pick a coin at random, and toss it 10 times. Given that you see 10 heads, what is the probability that the next toss of that coin is also a heads?"
   ]
  },
  {
   "cell_type": "markdown",
   "metadata": {},
   "source": [
    "## Answer"
   ]
  },
  {
   "cell_type": "markdown",
   "metadata": {},
   "source": [
    "Let us understand what the question is. We need to find probability of the toss that shows head given it showed 10 heads already. We will write this with mathematical term  as $\\mathbb{P}(H\\mid 10 H)$, here $H$ means head and also $T$ would mean tail. By using law of total probability we can write this\n",
    "\\begin{equation}\n",
    "\\mathbb{P}(H | 10H) = \\mathbb{P}(H | U) * \\mathbb{P}(U | 10H) + \\mathbb{P}(H | F) * \\mathbb{P}(F | 10H)\n",
    "\\end{equation}\n",
    "Here $U$ represents unfair coin which is double headed and $F$ shows fair coin. Now let us try to calculate each of these probabilities in equation (1).\n",
    "\n",
    "$\\mathbb{P}(H | U)=1$ (because it is unfair coin)\n",
    "\n",
    " $\\mathbb{P}(H | F)=\\frac{1}{2}$ (because it is fair coin)\n",
    "\n",
    "Now, for other two probability terms we will use definition of conditional probabilities.\n",
    "\n",
    "\\begin{equation}\n",
    "\\mathbb{P}(U | 10H) =\\dfrac{ \\mathbb{P}(U,10H)}{\\mathbb{P}(10H)}=\\dfrac{ \\mathbb{P}(10H,U)}{\\mathbb{P}(10H)}=  \\dfrac{ \\mathbb{P}(10H | U) * \\mathbb{P}(U)}{\\mathbb{P}(10H)}\n",
    "\\end{equation}\n",
    "\n",
    "\\begin{equation}\n",
    "\\mathbb{P}(F | 10H) =\\dfrac{ \\mathbb{P}(F,10H)}{\\mathbb{P}(10H)}=\\dfrac{ \\mathbb{P}(10H,F)}{\\mathbb{P}(10H)}=  \\dfrac{ \\mathbb{P}(10H | F) * \\mathbb{P}(F)}{\\mathbb{P}(10H)}\n",
    "\\end{equation}\n",
    "Now to calculate the equation (1), we need to calculate the equation (2) and (3). Let us first calculate the numerator of equation (2), then numerator of equation (3).\n",
    "\n",
    "$\\mathbb{P}(10H | U)=1$\n",
    "\n",
    "$\\mathbb{P}(U)=\\frac{1}{1000}$\n",
    "\n",
    "$\\mathbb{P}(10H | F)=\\frac{1}{2^{10}}$\n",
    "\n",
    "$\\mathbb{P}(F)=\\frac{999}{1000}$\n",
    "\n",
    "Now the last thing we need to calculate is the denominator of both equation (2) and (3). For that term we again use the law of total probability. \n",
    "\\begin{equation*}\n",
    "\\mathbb{P}(10H)  = \\mathbb{P}(10H | U) * \\mathbb{P}(U) + \\mathbb{P}(10H | F) * \\mathbb{P}(F)=1*\\frac{1}{1000}+\\frac{999}{1000}*\\frac{1}{2^{10}}\n",
    "\\end{equation*}\n",
    "So equation (2) becomes\n",
    "\n",
    "\\begin{equation*}\n",
    "\\mathbb{P}(U | 10H)=\\dfrac{1*\\frac{1}{1000}}{1*\\frac{1}{1000}+\\frac{999}{1000}*\\frac{1}{2^{10}}}\n",
    "\\end{equation*}\n",
    "and equation (3) becomes\n",
    "\n",
    "\\begin{equation*}\n",
    "\\mathbb{P}(F | 10H)=\\dfrac{\\frac{999}{1000}*\\frac{1}{2}}{1*\\frac{1}{1000}+\\frac{999}{1000}*\\frac{1}{2^{10}}}\n",
    "\\end{equation*}"
   ]
  },
  {
   "cell_type": "code",
   "execution_count": 1,
   "metadata": {
    "ExecuteTime": {
     "end_time": "2021-04-06T04:47:05.413583Z",
     "start_time": "2021-04-06T04:47:05.384900Z"
    }
   },
   "outputs": [
    {
     "data": {
      "text/plain": [
       "0.5061789421651013"
      ]
     },
     "execution_count": 1,
     "metadata": {},
     "output_type": "execute_result"
    }
   ],
   "source": [
    "equ_2 = (1/1000)/(1/1000 + (1/2)**10 * 999/1000)\n",
    "equ_2"
   ]
  },
  {
   "cell_type": "code",
   "execution_count": 2,
   "metadata": {
    "ExecuteTime": {
     "end_time": "2021-04-06T04:47:05.444596Z",
     "start_time": "2021-04-06T04:47:05.424665Z"
    }
   },
   "outputs": [
    {
     "data": {
      "text/plain": [
       "0.49382105783489866"
      ]
     },
     "execution_count": 2,
     "metadata": {},
     "output_type": "execute_result"
    }
   ],
   "source": [
    "equ_3 = ((1/2)**10 * 999/1000)/(1/1000 + (1/2)**10 * 999/1000)\n",
    "equ_3"
   ]
  },
  {
   "cell_type": "code",
   "execution_count": 3,
   "metadata": {
    "ExecuteTime": {
     "end_time": "2021-04-06T04:47:05.456130Z",
     "start_time": "2021-04-06T04:47:05.448912Z"
    }
   },
   "outputs": [
    {
     "data": {
      "text/plain": [
       "0.7530894710825506"
      ]
     },
     "execution_count": 3,
     "metadata": {},
     "output_type": "execute_result"
    }
   ],
   "source": [
    "#our result that is equation 1\n",
    "equ_1=1*equ_2+1/2*equ_3\n",
    "equ_1"
   ]
  },
  {
   "cell_type": "markdown",
   "metadata": {},
   "source": [
    "## Python code for simulation"
   ]
  },
  {
   "cell_type": "code",
   "execution_count": 4,
   "metadata": {
    "ExecuteTime": {
     "end_time": "2021-04-06T04:47:05.467182Z",
     "start_time": "2021-04-06T04:47:05.462164Z"
    }
   },
   "outputs": [],
   "source": [
    "coins = [\"F\", \"U\"]\n",
    "outcomes = [\"H\", \"T\"]  \n",
    "numerator = 0\n",
    "denominator = 0"
   ]
  },
  {
   "cell_type": "code",
   "execution_count": 5,
   "metadata": {
    "ExecuteTime": {
     "end_time": "2021-04-06T04:47:05.485679Z",
     "start_time": "2021-04-06T04:47:05.472146Z"
    }
   },
   "outputs": [],
   "source": [
    "import random\n",
    "def simulator(n):\n",
    "    random.seed(42)\n",
    "    numerator=0\n",
    "    denominator=0\n",
    "    for i in range(n):\n",
    "        #pick a coin randomly\n",
    "        rand_int = random.randint(1,1000)\n",
    "        # assume the double sided coin is the first one \n",
    "        if rand_int == 1:\n",
    "            coin= coins[1]\n",
    "        else:\n",
    "            coin = coins[0]\n",
    "        \n",
    "        heads = True   # this is always the case for \"U\" unfair coin\n",
    "        #print(coin)\n",
    "        if coin == \"F\":\n",
    "            k=0\n",
    "            while k<10:\n",
    "                #print(k)\n",
    "                if random.choice(outcomes) == \"T\":\n",
    "                    heads = False\n",
    "                    break\n",
    "                k+=1\n",
    "        if heads==True:\n",
    "            denominator += 1\n",
    "            #for the last toss\n",
    "            if coin == \"U\" or (coin == \"F\" and random.choice(outcomes) == \"H\"):\n",
    "                numerator += 1\n",
    "    prob = numerator / denominator\n",
    "    return prob,numerator,denominator"
   ]
  },
  {
   "cell_type": "code",
   "execution_count": 8,
   "metadata": {
    "ExecuteTime": {
     "end_time": "2021-04-06T04:47:33.557991Z",
     "start_time": "2021-04-06T04:47:33.484615Z"
    }
   },
   "outputs": [
    {
     "data": {
      "text/plain": [
       "(0.6, 12, 20)"
      ]
     },
     "execution_count": 8,
     "metadata": {},
     "output_type": "execute_result"
    }
   ],
   "source": [
    "simulator(10000)"
   ]
  },
  {
   "cell_type": "code",
   "execution_count": 9,
   "metadata": {
    "ExecuteTime": {
     "end_time": "2021-04-06T04:47:53.232189Z",
     "start_time": "2021-04-06T04:47:52.847769Z"
    }
   },
   "outputs": [
    {
     "data": {
      "text/plain": [
       "(0.7, 140, 200)"
      ]
     },
     "execution_count": 9,
     "metadata": {},
     "output_type": "execute_result"
    }
   ],
   "source": [
    "simulator(100000)"
   ]
  },
  {
   "cell_type": "code",
   "execution_count": 10,
   "metadata": {
    "ExecuteTime": {
     "end_time": "2021-04-06T04:47:57.601275Z",
     "start_time": "2021-04-06T04:47:54.080203Z"
    }
   },
   "outputs": [
    {
     "data": {
      "text/plain": [
       "(0.7442094662638469, 1478, 1986)"
      ]
     },
     "execution_count": 10,
     "metadata": {},
     "output_type": "execute_result"
    }
   ],
   "source": [
    "simulator(1000000)"
   ]
  },
  {
   "cell_type": "code",
   "execution_count": 11,
   "metadata": {
    "ExecuteTime": {
     "end_time": "2021-04-06T06:28:35.521001Z",
     "start_time": "2021-04-06T04:48:36.793533Z"
    }
   },
   "outputs": [],
   "source": [
    "trial_list= [simulator(i)[0] for i in range(10000,5000001,10000)]"
   ]
  },
  {
   "cell_type": "code",
   "execution_count": 12,
   "metadata": {
    "ExecuteTime": {
     "end_time": "2021-04-06T06:28:35.683780Z",
     "start_time": "2021-04-06T06:28:35.622190Z"
    }
   },
   "outputs": [],
   "source": [
    "#trial_list"
   ]
  },
  {
   "cell_type": "code",
   "execution_count": 13,
   "metadata": {
    "ExecuteTime": {
     "end_time": "2021-04-06T06:28:36.737272Z",
     "start_time": "2021-04-06T06:28:35.698949Z"
    }
   },
   "outputs": [
    {
     "data": {
      "image/png": "[encoded data removed]",
      "text/plain": [
       "<Figure size 432x288 with 1 Axes>"
      ]
     },
     "metadata": {
      "needs_background": "light"
     },
     "output_type": "display_data"
    }
   ],
   "source": [
    "from matplotlib import pyplot as plt\n",
    "plt.plot(trial_list)\n",
    "plt.axhline(y=0.7530894710825506, color='r', linestyle='-')\n",
    "plt.show()"
   ]
  },
  {
   "cell_type": "markdown",
   "metadata": {},
   "source": [
    "\n",
    "For further discussions:\n",
    "https://www.quora.com/A-jar-has-1000-coins-of-which-999-are-fair-and-1-is-double-headed-Pick-a-coin-at-random-and-toss-it-10-times-Given-that-you-see-10-heads-what-is-the-probability-that-the-next-toss-of-that-coin-is-also-a-heads"
   ]
  },
  {
   "cell_type": "code",
   "execution_count": null,
   "metadata": {},
   "outputs": [],
   "source": []
  }
 ],
 "metadata": {
  "author": "g",
  "hide_input": false,
  "kernelspec": {
   "display_name": "Python 3",
   "language": "python",
   "name": "python3"
  },
  "language_info": {
   "codemirror_mode": {
    "name": "ipython",
    "version": 3
   },
   "file_extension": ".py",
   "mimetype": "text/x-python",
   "name": "python",
   "nbconvert_exporter": "python",
   "pygments_lexer": "ipython3",
   "version": "3.7.5"
  },
  "latex_envs": {
   "LaTeX_envs_menu_present": true,
   "autoclose": false,
   "autocomplete": true,
   "bibliofile": "biblio.bib",
   "cite_by": "apalike",
   "current_citInitial": 1,
   "eqLabelWithNumbers": true,
   "eqNumInitial": 1,
   "hotkeys": {
    "equation": "Ctrl-E",
    "itemize": "Ctrl-I"
   },
   "labels_anchors": false,
   "latex_user_defs": false,
   "report_style_numbering": false,
   "user_envs_cfg": false
  }
 },
 "nbformat": 4,
 "nbformat_minor": 4
}

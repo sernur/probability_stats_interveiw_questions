{
 "cells": [
  {
   "cell_type": "markdown",
   "metadata": {
    "ExecuteTime": {
     "end_time": "2021-03-03T15:06:18.500645Z",
     "start_time": "2021-03-03T15:06:18.455823Z"
    }
   },
   "source": [
    "sergazy.nurbavliyev@gmail.com © 2021"
   ]
  },
  {
   "cell_type": "markdown",
   "metadata": {},
   "source": [
    "## Simulating a Fair Coin with a Biased Coin"
   ]
  },
  {
   "cell_type": "markdown",
   "metadata": {},
   "source": [
    "Question: Assume we have a biased coin ($p\\neq1/2$). Can you simulate a fair coin using our a biased coin?"
   ]
  },
  {
   "cell_type": "markdown",
   "metadata": {},
   "source": [
    "## Answer"
   ]
  },
  {
   "cell_type": "markdown",
   "metadata": {},
   "source": [
    "Let us first understand  what the question is asking. We would like to get a fair using this biased coin even though we don't know how biased our coin is.  Assume that head comes up with probability $p$, and tail comes up with probability $q$. Note $p+q=1$ In other words \n",
    "\\begin{equation*}\n",
    "\\mathbb{P}(H) = p \\text{ and } \n",
    "\\mathbb{P}(T) = 1-p=q\n",
    "\\end{equation*}\n",
    "We will use the great mathematician John von Neumann's solution. He suggests throw a biased coin twice and then calls heads and tails if the results of the biased coin are different. If the results of biased coin are the same then ignore the results and restart over.  To see clearly, write \n",
    "\n",
    "$\\mathbb{P}(HH) = \\mathbb{P}(H) * \\mathbb{P}(H) = p * p $ <BR>\n",
    "$\\mathbb{P}(HT) = \\mathbb{P}(H) * \\mathbb{P}(T) = p * q $ <BR>\n",
    "$\\mathbb{P}(TH) = \\mathbb{P}(T) * \\mathbb{P}(H) = q * p  $ <BR>\n",
    "$\\mathbb{P}(TT) = \\mathbb{P}(T) * \\mathbb{P}(T) = q * q $\n",
    "\n",
    "Since $p\\neq1/2$, we know $p^2\\neq q^2$. Thus we  use $HT$ or $TH$ because $\\mathbb{P}(HT)=\\mathbb{P}(TH)$. \n",
    "    \n",
    "Thus following Neumann's brilliant approach we call heads if we get $HT$ after flipping biased coin twice and call tails if we get $TH$. In other cases, we throw the results and start over again. "
   ]
  },
  {
   "cell_type": "code",
   "execution_count": null,
   "metadata": {},
   "outputs": [],
   "source": []
  },
  {
   "cell_type": "code",
   "execution_count": null,
   "metadata": {},
   "outputs": [],
   "source": []
  },
  {
   "cell_type": "markdown",
   "metadata": {},
   "source": [
    "## Python code for simulation"
   ]
  },
  {
   "cell_type": "code",
   "execution_count": 56,
   "metadata": {
    "ExecuteTime": {
     "end_time": "2021-03-08T05:28:05.288271Z",
     "start_time": "2021-03-08T05:28:05.267999Z"
    }
   },
   "outputs": [
    {
     "name": "stdout",
     "output_type": "stream",
     "text": [
      "0.45819079723218104 we chose random p between 0 and 1\n"
     ]
    }
   ],
   "source": [
    "import random\n",
    "p=random.uniform(0,1)\n",
    "print(p,'we chose random p between 0 and 1')\n",
    "def biased(p):\n",
    "    return int(random.random() < p)\n",
    "def fair():\n",
    "    coin_1, coin_2 = 0,0\n",
    "    while coin_1 == coin_2:\n",
    "        coin_1, coin_2 = biased(p), biased(p)\n",
    "    return coin_1"
   ]
  },
  {
   "cell_type": "code",
   "execution_count": 57,
   "metadata": {
    "ExecuteTime": {
     "end_time": "2021-03-08T05:28:05.580518Z",
     "start_time": "2021-03-08T05:28:05.511614Z"
    }
   },
   "outputs": [
    {
     "data": {
      "text/plain": [
       "45813"
      ]
     },
     "execution_count": 57,
     "metadata": {},
     "output_type": "execute_result"
    }
   ],
   "source": [
    "sum(biased(p) for i in range(10000))"
   ]
  },
  {
   "cell_type": "code",
   "execution_count": 62,
   "metadata": {
    "ExecuteTime": {
     "end_time": "2021-03-08T05:36:02.472656Z",
     "start_time": "2021-03-08T05:34:05.097754Z"
    }
   },
   "outputs": [],
   "source": [
    "import numpy as np\n",
    "values = np.array([sum(fair() for i in range(j)) for j in range(10000)])"
   ]
  },
  {
   "cell_type": "code",
   "execution_count": 67,
   "metadata": {
    "ExecuteTime": {
     "end_time": "2021-03-08T05:38:59.528967Z",
     "start_time": "2021-03-08T05:38:59.512283Z"
    }
   },
   "outputs": [
    {
     "name": "stderr",
     "output_type": "stream",
     "text": [
      "/Users/sergazy/anaconda3/lib/python3.7/site-packages/ipykernel_launcher.py:1: RuntimeWarning:\n",
      "\n",
      "invalid value encountered in long_scalars\n",
      "\n"
     ]
    }
   ],
   "source": [
    "values2 =np.array([j/i for i,j  in zip(range(10000),values)])"
   ]
  },
  {
   "cell_type": "code",
   "execution_count": 70,
   "metadata": {
    "ExecuteTime": {
     "end_time": "2021-03-08T05:44:24.019275Z",
     "start_time": "2021-03-08T05:44:23.796804Z"
    }
   },
   "outputs": [
    {
     "data": {
      "image/png": "[encoded data removed]",
      "text/plain": [
       "<Figure size 432x288 with 1 Axes>"
      ]
     },
     "metadata": {
      "needs_background": "light"
     },
     "output_type": "display_data"
    }
   ],
   "source": [
    "import matplotlib.pyplot as plt\n",
    "plt.plot(values2)\n",
    "plt.show()"
   ]
  },
  {
   "cell_type": "code",
   "execution_count": null,
   "metadata": {},
   "outputs": [],
   "source": []
  }
 ],
 "metadata": {
  "author": "g",
  "hide_input": false,
  "kernelspec": {
   "display_name": "Python 3",
   "language": "python",
   "name": "python3"
  },
  "language_info": {
   "codemirror_mode": {
    "name": "ipython",
    "version": 3
   },
   "file_extension": ".py",
   "mimetype": "text/x-python",
   "name": "python",
   "nbconvert_exporter": "python",
   "pygments_lexer": "ipython3",
   "version": "3.7.5"
  },
  "latex_envs": {
   "LaTeX_envs_menu_present": true,
   "autoclose": false,
   "autocomplete": true,
   "bibliofile": "biblio.bib",
   "cite_by": "apalike",
   "current_citInitial": 1,
   "eqLabelWithNumbers": true,
   "eqNumInitial": 1,
   "hotkeys": {
    "equation": "Ctrl-E",
    "itemize": "Ctrl-I"
   },
   "labels_anchors": false,
   "latex_user_defs": false,
   "report_style_numbering": false,
   "user_envs_cfg": false
  }
 },
 "nbformat": 4,
 "nbformat_minor": 4
}

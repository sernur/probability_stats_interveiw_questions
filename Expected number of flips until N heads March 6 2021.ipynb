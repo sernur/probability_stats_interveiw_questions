{
 "cells": [
  {
   "cell_type": "markdown",
   "metadata": {
    "ExecuteTime": {
     "end_time": "2021-03-03T15:06:18.500645Z",
     "start_time": "2021-03-03T15:06:18.455823Z"
    }
   },
   "source": [
    "sergazy.nurbavliyev@gmail.com © 2021"
   ]
  },
  {
   "cell_type": "markdown",
   "metadata": {},
   "source": [
    "## Expected Number of flips until N heads"
   ]
  },
  {
   "cell_type": "markdown",
   "metadata": {},
   "source": [
    "Question: Assume we have a fair coin. What is the expected number of coin flips needed to get $N$ consecutive heads."
   ]
  },
  {
   "cell_type": "markdown",
   "metadata": {},
   "source": [
    "### Intuition"
   ]
  },
  {
   "cell_type": "markdown",
   "metadata": {},
   "source": [
    "Let us solve this for $N=2$ first. Then we will generalize the idea for any $N$. Let $X$ denote the number of flips that we need to get two consecutive heads. Then we want to find $\\mathbb{E}[X]$. We will denote the flip that results in head with $H$ and in tails as $T$. \n",
    "Then we can write $\\mathbb{E}[X]$ as:\n",
    "\\begin{equation}\n",
    "\\mathbb{E}[X]=\\mathbb{P}(H)(1+\\mathbb{E}[X|H])+\\mathbb{P}(T)(1+\\mathbb{E}[X|T])=\\frac{1}{2}(1+\\mathbb{E}[X|H])+\\frac{1}{2}(1+\\mathbb{E}[X|T])\n",
    "\\end{equation}\n",
    "where we conditioned on our first flip. Note that $\\mathbb{E}[X|T])=\\mathbb{E}[X])$ because after we see tails we need to start over again to see two consecutive heads. Then equation (1) becomes\n",
    "\\begin{equation}\n",
    "\\mathbb{E}[X]=\\frac{1}{2}(1+\\mathbb{E}[X|H])+\\frac{1}{2}(1+\\mathbb{E}[X])\n",
    "\\end{equation}\n",
    "Now we need to solve $\\mathbb{E}[X|H]$. We will conditioned further if we can get rid of these terms. Then we have\n",
    "\\begin{equation}\n",
    "\\mathbb{E}[X|H]=\\mathbb{P}(H)(1+\\mathbb{E}[X|HH])+\\mathbb{P}(T)(1+\\mathbb{E}[X|HT])=\\frac{1}{2}(1+\\mathbb{E}[X|HH])+\\frac{1}{2}(1+\\mathbb{E}[X|HT])\n",
    "\\end{equation}\n",
    "From here we can see that $\\mathbb{E}[X|HH]=0$ because we already see the pattern, and $\\mathbb{E}[X|HT])=\\mathbb{E}[X])$ since we need to start over again. The equation (3) will be \n",
    "\\begin{equation}\n",
    "\\mathbb{E}[X|H]=\\frac{1}{2}(1+0)+\\frac{1}{2}(1+\\mathbb{E}[X])=1+\\frac{1}{2}\\mathbb{E}[X]\n",
    "\\end{equation}\n",
    "So equation (2) will be \n",
    "\\begin{equation}\n",
    "\\mathbb{E}[X]=\\frac{1}{2}(1+\\mathbb{E}[X|H])+\\frac{1}{2}(1+\\mathbb{E}[X])=\\frac{1}{2}(1+(1+\\frac{1}{2}\\mathbb{E}[X]))+\\frac{1}{2}(1+\\mathbb{E}[X])=\\frac{1}{2}(2+\\frac{1}{2}\\mathbb{E}[X]))+\\frac{1}{2}(1+\\mathbb{E}[X])\n",
    "\\end{equation}\n",
    "After multiplying by 8 both sides we get\n",
    "\\begin{equation}\n",
    "8\\mathbb{E}[X]=4(2+\\frac{1}{2}\\mathbb{E}[X]))+4(1+\\mathbb{E}[X])=8+2\\mathbb{E}[X]))+4+4\\mathbb{E}[X])\\Rightarrow 2\\mathbb{E}[X] =12\\Rightarrow \\mathbb{E}[X] =6\n",
    "\\end{equation}"
   ]
  },
  {
   "cell_type": "markdown",
   "metadata": {},
   "source": [
    "## Theoritical result"
   ]
  },
  {
   "cell_type": "markdown",
   "metadata": {},
   "source": [
    "Lets denote $\\mathbb{E}_N$ for $N$ consecutive heads. With the same logic above, if we get one more head after $\\mathbb{E}_{N-1}$, then we are done because we would have $N$ consecutive heads.  But if it is a tail then  we need to start over again. Thus there are two cases:\n",
    "\n",
    "If we have a head, $\\mathbb{E}_{N-1}+1$.\n",
    "\n",
    "If we have a tail, $\\mathbb{E}_{N}+1$.\n",
    "\n",
    "\\begin{equation}\n",
    "\\mathbb{E}_{N}= \\mathbb{P}(H)(\\mathbb{E}_{N-1}+1)+\\mathbb{P}(T)(\\mathbb{E}_{N-1}+\\mathbb{E}_{N}+1)=\\frac{1}{2}(\\mathbb{E}_{N-1}+1)+\\frac{1}{2}(\\mathbb{E}_{N-1}+\\mathbb{E}_{N}+1)\n",
    "\\end{equation}\n",
    "Multiply by 2 both sides to get \n",
    "\\begin{equation}\n",
    "\\mathbb{E}_{N}=2\\mathbb{E}_{N-1}+2\n",
    "\\end{equation}"
   ]
  },
  {
   "cell_type": "markdown",
   "metadata": {},
   "source": [
    "## Python code for simulation"
   ]
  },
  {
   "cell_type": "code",
   "execution_count": 1,
   "metadata": {
    "ExecuteTime": {
     "end_time": "2021-03-07T08:53:25.752075Z",
     "start_time": "2021-03-07T08:53:25.745380Z"
    }
   },
   "outputs": [],
   "source": [
    "def expect(n):\n",
    "    if n == 0:\n",
    "        return 0\n",
    "\n",
    "    return 2*expect(n-1)+2"
   ]
  },
  {
   "cell_type": "code",
   "execution_count": 2,
   "metadata": {
    "ExecuteTime": {
     "end_time": "2021-03-07T08:53:31.510661Z",
     "start_time": "2021-03-07T08:53:31.488678Z"
    }
   },
   "outputs": [
    {
     "data": {
      "text/plain": [
       "6"
      ]
     },
     "execution_count": 2,
     "metadata": {},
     "output_type": "execute_result"
    }
   ],
   "source": [
    "expect(2)"
   ]
  },
  {
   "cell_type": "code",
   "execution_count": 3,
   "metadata": {
    "ExecuteTime": {
     "end_time": "2021-03-07T08:53:38.501694Z",
     "start_time": "2021-03-07T08:53:38.490798Z"
    }
   },
   "outputs": [
    {
     "data": {
      "text/plain": [
       "14"
      ]
     },
     "execution_count": 3,
     "metadata": {},
     "output_type": "execute_result"
    }
   ],
   "source": [
    "expect(3)"
   ]
  },
  {
   "cell_type": "code",
   "execution_count": 4,
   "metadata": {
    "ExecuteTime": {
     "end_time": "2021-03-07T08:53:43.391896Z",
     "start_time": "2021-03-07T08:53:43.381271Z"
    }
   },
   "outputs": [
    {
     "data": {
      "text/plain": [
       "30"
      ]
     },
     "execution_count": 4,
     "metadata": {},
     "output_type": "execute_result"
    }
   ],
   "source": [
    "expect(4)"
   ]
  },
  {
   "cell_type": "code",
   "execution_count": 5,
   "metadata": {
    "ExecuteTime": {
     "end_time": "2021-03-07T08:53:49.093149Z",
     "start_time": "2021-03-07T08:53:49.080439Z"
    }
   },
   "outputs": [
    {
     "data": {
      "text/plain": [
       "62"
      ]
     },
     "execution_count": 5,
     "metadata": {},
     "output_type": "execute_result"
    }
   ],
   "source": [
    "expect(5)"
   ]
  },
  {
   "cell_type": "code",
   "execution_count": 6,
   "metadata": {
    "ExecuteTime": {
     "end_time": "2021-03-07T08:53:58.145446Z",
     "start_time": "2021-03-07T08:53:58.132668Z"
    }
   },
   "outputs": [
    {
     "data": {
      "text/plain": [
       "4094"
      ]
     },
     "execution_count": 6,
     "metadata": {},
     "output_type": "execute_result"
    }
   ],
   "source": [
    "expect(11)"
   ]
  },
  {
   "cell_type": "code",
   "execution_count": 7,
   "metadata": {
    "ExecuteTime": {
     "end_time": "2021-03-07T08:54:06.829973Z",
     "start_time": "2021-03-07T08:54:06.807643Z"
    }
   },
   "outputs": [
    {
     "data": {
      "text/plain": [
       "2535301200456458802993406410750"
      ]
     },
     "execution_count": 7,
     "metadata": {},
     "output_type": "execute_result"
    }
   ],
   "source": [
    "expect(100)"
   ]
  },
  {
   "cell_type": "code",
   "execution_count": null,
   "metadata": {},
   "outputs": [],
   "source": []
  }
 ],
 "metadata": {
  "author": "g",
  "hide_input": false,
  "kernelspec": {
   "display_name": "Python 3",
   "language": "python",
   "name": "python3"
  },
  "language_info": {
   "codemirror_mode": {
    "name": "ipython",
    "version": 3
   },
   "file_extension": ".py",
   "mimetype": "text/x-python",
   "name": "python",
   "nbconvert_exporter": "python",
   "pygments_lexer": "ipython3",
   "version": "3.7.5"
  },
  "latex_envs": {
   "LaTeX_envs_menu_present": true,
   "autoclose": false,
   "autocomplete": true,
   "bibliofile": "biblio.bib",
   "cite_by": "apalike",
   "current_citInitial": 1,
   "eqLabelWithNumbers": true,
   "eqNumInitial": 1,
   "hotkeys": {
    "equation": "Ctrl-E",
    "itemize": "Ctrl-I"
   },
   "labels_anchors": false,
   "latex_user_defs": false,
   "report_style_numbering": false,
   "user_envs_cfg": false
  }
 },
 "nbformat": 4,
 "nbformat_minor": 4
}
